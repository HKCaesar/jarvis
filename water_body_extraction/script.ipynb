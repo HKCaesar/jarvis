{
 "cells": [
  {
   "cell_type": "code",
   "execution_count": 22,
   "metadata": {},
   "outputs": [],
   "source": [
    "%matplotlib inline\n",
    "\n",
    "import warnings\n",
    "warnings.filterwarnings('ignore')\n",
    "\n",
    "from __future__ import division\n",
    "import sys\n",
    "import csv\n",
    "csv.field_size_limit(sys.maxsize)\n",
    "\n",
    "import tifffile as tiff\n",
    "import numpy as np\n",
    "import matplotlib.pyplot as plt\n",
    "import scipy.ndimage\n",
    "import shapely.wkt\n",
    "import shapely.affinity\n",
    "import cv2\n",
    "\n",
    "import plotly.plotly as py\n",
    "import plotly.figure_factory as ff\n",
    "import plotly.graph_objs as go\n",
    "#from plotly.offline import download_plotlyjs, init_notebook_mode, iplot, plot\n",
    "#import plotly.offline as py\n",
    "#py.init_notebook_mode(connected=True)\n",
    "py.sign_in('junjchen', 'bdGkZpiRZ5nLdOCSD4o6') # Replace the username, and API key with your credentials.\n",
    "\n",
    "class ImageFact:\n",
    "    \n",
    "    def __init__(self, img_id, labels):\n",
    "        self.img_id = img_id\n",
    "        self.labels = labels\n",
    "        \n",
    "        self.read_images()\n",
    "        self.read_train_polygons()\n",
    "        self.read_train_labels()\n",
    "    \n",
    "    def read_images(self):\n",
    "        self.img_rgb = tiff.imread('input/%s.tif'%self.img_id).transpose((1, 2, 0))        \n",
    "        self.img_p = tiff.imread('input/%s_P.tif'%self.img_id)\n",
    "        (self.h, self.w, _) = self.img_rgb.shape\n",
    "        \n",
    "        img_a = tiff.imread('input/%s_A.tif'%self.img_id).transpose((1, 2, 0))\n",
    "        img_m = tiff.imread('input/%s_M.tif'%self.img_id).transpose((1, 2, 0))\n",
    "        self.img_a_full = self._upscale_image_to_full_size(img_a)\n",
    "        self.img_m_full = self._upscale_image_to_full_size(img_m)\n",
    "    \n",
    "    def _upscale_image_to_full_size(self, img):\n",
    "        (h, w, _) = img.shape\n",
    "        img_full = scipy.ndimage.interpolation.zoom(img, (self.h / h, self.w / w, 1), order = 1)\n",
    "        return img_full\n",
    "    \n",
    "    def read_train_polygons(self):\n",
    "        self.train_polygons = {}\n",
    "        \n",
    "        for _im_id, _x, _y in csv.reader(open('../input/grid_sizes.csv')):\n",
    "            if _im_id == self.img_id:\n",
    "                x_max, y_min = float(_x), float(_y)\n",
    "                break      \n",
    "        x_scaler = self.w * (self.w / (self.w+1)) / x_max\n",
    "        y_scaler = self.h * (self.h / (self.h+1)) / y_min   \n",
    "        \n",
    "        for _im_id, _poly_type, _poly in csv.reader(open('../input/train_wkt_v4.csv')):                \n",
    "            if _im_id == self.img_id and _poly_type in self.labels:\n",
    "                p = shapely.affinity.scale(shapely.wkt.loads(_poly), xfact = x_scaler, yfact = y_scaler, origin = (0,0,0)) \n",
    "                self.train_polygons[_poly_type] = p\n",
    "\n",
    "    def read_train_labels(self):\n",
    "        self.img_labels = {}\n",
    "        for k in self.train_polygons:\n",
    "            train_polygon = self.train_polygons[k]\n",
    "            img_label = np.zeros((self.h, self.w), np.uint8)\n",
    "            int_coords = lambda x: np.array(x).round().astype(np.int32)\n",
    "            exteriors = [int_coords(poly.exterior.coords) for poly in train_polygon]\n",
    "            interiors = [int_coords(pi.coords) for poly in train_polygon\n",
    "                         for pi in poly.interiors]\n",
    "            cv2.fillPoly(img_label, exteriors, 1)\n",
    "            cv2.fillPoly(img_label, interiors, 0)\n",
    "            self.img_labels[k] = img_label\n",
    "        \n",
    "        self.combined_labels = np.zeros((self.h, self.w), np.uint8)\n",
    "        for k in self.img_labels:\n",
    "            self.combined_labels = np.bitwise_or(self.combined_labels, self.img_labels[k])\n",
    "            "
   ]
  },
  {
   "cell_type": "code",
   "execution_count": 3,
   "metadata": {
    "collapsed": true
   },
   "outputs": [],
   "source": [
    "i = ImageFact('6070_2_3', ['7', '8'])"
   ]
  },
  {
   "cell_type": "code",
   "execution_count": 4,
   "metadata": {
    "collapsed": true
   },
   "outputs": [],
   "source": [
    "# Split train and test groups\n",
    "\n",
    "# reduced training samples size\n",
    "tr_img_m_bands = np.dstack((i.img_m_full[2000:3000], i.combined_labels[2000:3000]))\n",
    "#ts_img_m_bands = np.dstack((i.img_m_full[1500:3350], i.combined_labels[1500:3350]))\n",
    "\n",
    "tr_water_dn = tr_img_m_bands[1 == tr_img_m_bands[:,:,8]]\n",
    "tr_non_water_dn = tr_img_m_bands[0 == tr_img_m_bands[:,:,8]]"
   ]
  },
  {
   "cell_type": "code",
   "execution_count": 23,
   "metadata": {},
   "outputs": [
    {
     "name": "stdout",
     "output_type": "stream",
     "text": [
      "High five! You successfuly sent some data to your account on plotly. View your plot in your browser at https://plot.ly/~junjchen/0 or inside your plot.ly account where it is named 'plot from API'\n"
     ]
    },
    {
     "data": {
      "text/html": [
       "<iframe id=\"igraph\" scrolling=\"no\" style=\"border:none;\" seamless=\"seamless\" src=\"https://plot.ly/~junjchen/0.embed\" height=\"320px\" width=\"100%\"></iframe>"
      ],
      "text/plain": [
       "<plotly.tools.PlotlyDisplay object>"
      ]
     },
     "execution_count": 23,
     "metadata": {},
     "output_type": "execute_result"
    }
   ],
   "source": [
    "# Plot table on dn stats for the 8 band\n",
    "\n",
    "def gen_dn_statics_for_table(dns):    \n",
    "    dn_mean = np.mean(dns, axis = 0)\n",
    "    dn_std = np.std(dns, axis = 0)\n",
    "    dn_max = np.max(dns, axis = 0)\n",
    "    dn_min = np.min(dns, axis = 0)    \n",
    "    dn_mean_formatted = ['%1.2f'%dn for dn in dn_mean]\n",
    "    dn_std_formatted = ['%1.2f'%dn for dn in dn_std]\n",
    "    dn_max_formatted = ['%d'%dn for dn in dn_max]\n",
    "    dn_min_formatted = ['%d'%dn for dn in dn_min]    \n",
    "    return (dn_mean_formatted, dn_std_formatted, dn_max_formatted, dn_min_formatted, dn_mean, dn_std, dn_max, dn_min)\n",
    "    \n",
    "water_dn_mean_formatted, water_dn_std_formatted, water_dn_max_formatted, water_dn_min_formatted, _, _, _, _ = gen_dn_statics_for_table(tr_water_dn[:,0:8])\n",
    "water_dn_mean_formatted.insert(0, 'MEAN (W)')\n",
    "water_dn_std_formatted.insert(0, 'STD (W)')\n",
    "water_dn_max_formatted.insert(0, 'MAX (W)')\n",
    "water_dn_min_formatted.insert(0, 'MIN (W)')\n",
    "\n",
    "non_water_dn_mean_formatted, non_water_dn_std_formatted, non_water_dn_max_formatted, non_water_dn_min_formatted, _, _, _, _ = gen_dn_statics_for_table(tr_non_water_dn[:,0:8])\n",
    "non_water_dn_mean_formatted.insert(0, 'MEAN (NW)')\n",
    "non_water_dn_std_formatted.insert(0, 'STD (NW)')\n",
    "non_water_dn_max_formatted.insert(0, 'MAX (NW)')\n",
    "non_water_dn_min_formatted.insert(0, 'MIN (NW)')\n",
    "\n",
    "colorscale = [[0, '#0D47A1'],[.5, '#64B5F6'],[1, '#ffffff']]\n",
    "table = ff.create_table([\n",
    "    ['', 'B1', 'B2', 'B3', 'B4', 'B5', 'B6', 'B7', 'B8'],\n",
    "    water_dn_mean_formatted,\n",
    "    non_water_dn_mean_formatted,    \n",
    "    water_dn_std_formatted,\n",
    "    non_water_dn_std_formatted,    \n",
    "    water_dn_max_formatted,\n",
    "    non_water_dn_max_formatted,    \n",
    "    water_dn_min_formatted,        \n",
    "    non_water_dn_min_formatted\n",
    "], colorscale=colorscale)\n",
    "\n",
    "py.iplot(table, filename='')"
   ]
  },
  {
   "cell_type": "code",
   "execution_count": 25,
   "metadata": {},
   "outputs": [
    {
     "data": {
      "image/png": "[encoded data removed]",
      "text/plain": [
       "<IPython.core.display.Image object>"
      ]
     },
     "metadata": {},
     "output_type": "display_data"
    }
   ],
   "source": [
    "# plot dn histogram for band 8\n",
    "\n",
    "data = [\n",
    "    go.Histogram(x=tr_water_dn[:,7], opacity=0.75, name='water'),\n",
    "    go.Histogram(x=tr_non_water_dn[:,7], opacity=0.75, name='not-water')\n",
    "]\n",
    "layout = go.Layout(barmode='overlay')\n",
    "fig = go.Figure(data=data, layout=layout)\n",
    "\n",
    "#py.iplot(fig, filename='')\n",
    "py.image.ishow(fig)"
   ]
  }
 ],
 "metadata": {
  "kernelspec": {
   "display_name": "Python 2",
   "language": "python",
   "name": "python2"
  },
  "language_info": {
   "codemirror_mode": {
    "name": "ipython",
    "version": 2
   },
   "file_extension": ".py",
   "mimetype": "text/x-python",
   "name": "python",
   "nbconvert_exporter": "python",
   "pygments_lexer": "ipython2",
   "version": "2.7.6"
  }
 },
 "nbformat": 4,
 "nbformat_minor": 2
}
