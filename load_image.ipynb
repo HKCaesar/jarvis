{
 "cells": [
  {
   "cell_type": "code",
   "execution_count": 1,
   "metadata": {},
   "outputs": [],
   "source": [
    "%matplotlib inline\n",
    "\n",
    "from __future__ import division\n",
    "import sys\n",
    "import csv\n",
    "csv.field_size_limit(sys.maxsize)\n",
    "\n",
    "import tifffile as tiff\n",
    "import numpy as np\n",
    "import matplotlib.pyplot as plt\n",
    "import scipy.ndimage\n",
    "import shapely.wkt\n",
    "import shapely.affinity\n",
    "import cv2\n",
    "\n",
    "IMG_ID = '6070_2_3'\n",
    "LABELS = ['7', '8']"
   ]
  },
  {
   "cell_type": "code",
   "execution_count": 3,
   "metadata": {},
   "outputs": [
    {
     "name": "stdout",
     "output_type": "stream",
     "text": [
      "{'8': array([[0, 0, 0, ..., 0, 0, 0],\n",
      "       [0, 0, 0, ..., 0, 0, 0],\n",
      "       [0, 0, 0, ..., 0, 0, 0],\n",
      "       ..., \n",
      "       [0, 0, 0, ..., 0, 0, 0],\n",
      "       [0, 0, 0, ..., 0, 0, 0],\n",
      "       [0, 0, 0, ..., 0, 0, 0]], dtype=uint8), '7': array([[0, 0, 0, ..., 0, 0, 0],\n",
      "       [0, 0, 0, ..., 0, 0, 0],\n",
      "       [0, 0, 0, ..., 0, 0, 0],\n",
      "       ..., \n",
      "       [0, 0, 0, ..., 0, 0, 0],\n",
      "       [0, 0, 0, ..., 0, 0, 0],\n",
      "       [0, 0, 0, ..., 0, 0, 0]], dtype=uint8)}\n"
     ]
    }
   ],
   "source": [
    "class Image:\n",
    "    \n",
    "    def __init__(self, img_id, labels):\n",
    "        self.img_id = img_id\n",
    "        self.labels = labels\n",
    "        \n",
    "        self.read_images()\n",
    "        self.read_train_polygons()\n",
    "        self.read_train_rasters()\n",
    "    \n",
    "    def read_images(self):\n",
    "        self.img_rgb = tiff.imread('water_body_extraction/input/%s.tif'%self.img_id).transpose((1, 2, 0))\n",
    "        self.img_a = tiff.imread('water_body_extraction/input/%s_A.tif'%self.img_id).transpose((1, 2, 0))\n",
    "        self.img_m = tiff.imread('water_body_extraction/input/%s_M.tif'%self.img_id).transpose((1, 2, 0))\n",
    "        self.img_p = tiff.imread('water_body_extraction/input/%s_P.tif'%self.img_id)\n",
    "        (self.h, self.w, _) = self.img_rgb.shape\n",
    "        \n",
    "        self.img_a_full = self._upscale_image_to_full_size(self.img_a)\n",
    "        self.img_m_full = self._upscale_image_to_full_size(self.img_m)    \n",
    "    \n",
    "    def _upscale_image_to_full_size(self, img):\n",
    "        (h, w, _) = img.shape\n",
    "        img_full = scipy.ndimage.interpolation.zoom(img, (self.h / h, self.w / w, 1), order = 1)\n",
    "        return img_full\n",
    "    \n",
    "    def read_train_polygons(self):\n",
    "        self.train_polygons = {}\n",
    "        \n",
    "        for _im_id, _x, _y in csv.reader(open('data/grid_sizes.csv')):\n",
    "            if _im_id == IMG_ID:\n",
    "                x_max, y_min = float(_x), float(_y)\n",
    "                break      \n",
    "        x_scaler = self.w * (self.w / (self.w+1)) / x_max\n",
    "        y_scaler = self.h * (self.h / (self.h+1)) / y_min   \n",
    "        \n",
    "        for _im_id, _poly_type, _poly in csv.reader(open('data/train_wkt_v4.csv')):                \n",
    "            if _im_id == self.img_id and _poly_type in self.labels:\n",
    "                p = shapely.affinity.scale(shapely.wkt.loads(_poly), xfact = x_scaler, yfact = y_scaler, origin = (0,0,0)) \n",
    "                self.train_polygons[_poly_type] = p\n",
    "\n",
    "    def read_train_rasters(self):\n",
    "        self.img_masks = {}\n",
    "        for k in self.train_polygons:\n",
    "            train_polygon = self.train_polygons[k]\n",
    "            img_mask = np.zeros((self.h, self.w), np.uint8)\n",
    "            int_coords = lambda x: np.array(x).round().astype(np.int32)\n",
    "            exteriors = [int_coords(poly.exterior.coords) for poly in train_polygon]\n",
    "            interiors = [int_coords(pi.coords) for poly in train_polygon\n",
    "                         for pi in poly.interiors]\n",
    "            cv2.fillPoly(img_mask, exteriors, 1)\n",
    "            cv2.fillPoly(img_mask, interiors, 0)\n",
    "            self.img_masks[k] = img_mask        \n",
    "    \n",
    "i = Image(IMG_ID, LABELS)\n",
    "print(i.img_masks)\n",
    "\n",
    "    "
   ]
  },
  {
   "cell_type": "code",
   "execution_count": 10,
   "metadata": {},
   "outputs": [],
   "source": [
    "def upscale_img(img, to_h, to_w):\n",
    "    (orig_h, orig_w, _) = img.shape\n",
    "    return scipy.ndimage.interpolation.zoom(img, (to_h / orig_h, to_w / orig_w, 1), order = 3)"
   ]
  },
  {
   "cell_type": "code",
   "execution_count": 23,
   "metadata": {
    "collapsed": true
   },
   "outputs": [],
   "source": [
    "masks = [(gen_mask(polys, h, w)) for polys in gen_polygons(h, w)]\n",
    "full_mask = np.bitwise_or(masks[0], masks[1])\n",
    "full_mask_in_3d = full_mask.reshape(h, w, 1).repeat(3, 2)\n",
    "#masked = np.multiply(img_rgb, full_mask_in_3d)\n",
    "#plt.imshow(masked)"
   ]
  }
 ],
 "metadata": {
  "kernelspec": {
   "display_name": "Python 2",
   "language": "python",
   "name": "python2"
  },
  "language_info": {
   "codemirror_mode": {
    "name": "ipython",
    "version": 2
   },
   "file_extension": ".py",
   "mimetype": "text/x-python",
   "name": "python",
   "nbconvert_exporter": "python",
   "pygments_lexer": "ipython2",
   "version": "2.7.3"
  }
 },
 "nbformat": 4,
 "nbformat_minor": 2
}
